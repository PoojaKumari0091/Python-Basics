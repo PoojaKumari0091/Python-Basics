{
  "nbformat": 4,
  "nbformat_minor": 0,
  "metadata": {
    "colab": {
      "provenance": []
    },
    "kernelspec": {
      "name": "python3",
      "display_name": "Python 3"
    },
    "language_info": {
      "name": "python"
    }
  },
  "cells": [
    {
      "cell_type": "code",
      "execution_count": null,
      "metadata": {
        "id": "WiNSkGIXKcSt"
      },
      "outputs": [],
      "source": []
    },
    {
      "cell_type": "markdown",
      "source": [
        "#Python Basics Questions\n",
        "\n"
      ],
      "metadata": {
        "id": "1amRpaqpKwzm"
      }
    },
    {
      "cell_type": "markdown",
      "source": [
        "\n",
        "\n",
        "1.   What is Python, and why is it popular\n",
        "  - Python is a programming language which is easy to read and write and also it has huge community that creates libraries, tools and support when we need help\n",
        "\n",
        "\n",
        "2.   What is an interpreter in Python?\n",
        "  - Interpreter in python is a program that reads our code line by line and convert it into the instructions computer can understand.\n",
        "\n",
        "3.  What are pre-defined keywords in Python ?\n",
        "  - Pre-defined keywords in Python are reserved words with special meaning that you cannot use as variable or function names. Like if, for, while, break, continue ets\n",
        "\n",
        "4. Can keywords be used as variable names ?\n",
        "  - No, they can be used as they are reserved words\n",
        "\n",
        "5. What is mutability in Python?\n",
        "  - Mutability in python allows us to make changes in the value of the objecs once they are created like list, dict\n",
        "\n",
        "6. Why are lists mutable, but tuples are immutable ?\n",
        "  - list and tuples are different objects in the python created for different purposes. list mutability allows us to append, remove etc while tuples can be used when we want values in a object to remain unchanged\n",
        "\n",
        "7. What is the difference between “==” and “is” operators in Python ?\n",
        "  - \"==\" is to check if the values of two objects are equal while \"is\" is to check if both variables refer to the same object in memory\n",
        "\n",
        "8. What are logical operators in Python ?\n",
        "  - logical operators are used to combine and modify boolean results from comparison like and, or, not etc\n",
        "\n",
        "9. What is type casting in Python?\n",
        "  - Type casting in Python means converting a value from one data type to another using built in functions like int(), float(), str()\n",
        "\n",
        "10. What is the difference between implicit and explicit type casting ?\n",
        "  - implicit type is done automatically in python wherein python detects and convert one type to another and explicit is when we would need to convert the type using functions like str(), int()\n",
        "\n",
        "11. What is the purpose of conditional statements in Python ?\n",
        "  - The purpose of conditional statements in Python is to execute certain code only when a specific condition is true\n",
        "\n",
        "12. How does the elif statement work ?\n",
        "  - The elif statement lets us check multiple conditions one after another.If the first if is false, Python checks the elif and if that’s true, it runs its block and skips the rest.\n",
        "\n",
        "13. What is the difference between for and while loops ?\n",
        "  - for loop runs over sequence of elements and while loop runs until a certain condition becomes false\n",
        "\n",
        "14.  Describe a scenario where a while loop is more suitable than a for loop.\n",
        "  - A while loop is more suitable when we don’t know beforehand how many times the loop should run and want it to continue until a condition changes. like we want to check whether the password entered is correct or not and until the user enters the correct password we want tht loop to continue\n",
        "\n",
        "\n"
      ],
      "metadata": {
        "id": "B2Kwu3T1LA64"
      }
    },
    {
      "cell_type": "markdown",
      "source": [
        "#Practical Questions"
      ],
      "metadata": {
        "id": "9G4n7fwkWFMg"
      }
    },
    {
      "cell_type": "markdown",
      "source": [
        "1. Write a Python program to print \"Hello, World!"
      ],
      "metadata": {
        "id": "x2xwI238WK6C"
      }
    },
    {
      "cell_type": "code",
      "source": [
        "print(\"Hello, World!\")"
      ],
      "metadata": {
        "colab": {
          "base_uri": "https://localhost:8080/"
        },
        "id": "GtNGKhmeWTWl",
        "outputId": "ce92838a-1ecf-4fc6-fdb6-0aebb3574d42"
      },
      "execution_count": null,
      "outputs": [
        {
          "output_type": "stream",
          "name": "stdout",
          "text": [
            "Hello, World!\n"
          ]
        }
      ]
    },
    {
      "cell_type": "markdown",
      "source": [
        "2. Write a Python program that displays your name and age"
      ],
      "metadata": {
        "id": "K3QrhvolWa6l"
      }
    },
    {
      "cell_type": "code",
      "source": [
        "my_name = \"Pooja Kumari\"\n",
        "my_age = 31\n",
        "print(my_name,\" and my is \", my_age)"
      ],
      "metadata": {
        "colab": {
          "base_uri": "https://localhost:8080/"
        },
        "id": "8ggWdWv-WhOW",
        "outputId": "9afe02ea-6e27-4d9a-db00-341ea4b73169"
      },
      "execution_count": null,
      "outputs": [
        {
          "output_type": "stream",
          "name": "stdout",
          "text": [
            "Pooja Kumari  and my is  31\n"
          ]
        }
      ]
    },
    {
      "cell_type": "markdown",
      "source": [
        "3. Write code to print all the pre-defined keywords in Python using the keyword library"
      ],
      "metadata": {
        "id": "xlp-ZtAgXFoH"
      }
    },
    {
      "cell_type": "code",
      "source": [
        "import keyword\n",
        "print(keyword.kwlist)"
      ],
      "metadata": {
        "colab": {
          "base_uri": "https://localhost:8080/"
        },
        "id": "HfYv5hruXM68",
        "outputId": "091e7b8a-8019-4c14-889f-4bc7ec253ec2"
      },
      "execution_count": null,
      "outputs": [
        {
          "output_type": "stream",
          "name": "stdout",
          "text": [
            "['False', 'None', 'True', 'and', 'as', 'assert', 'async', 'await', 'break', 'class', 'continue', 'def', 'del', 'elif', 'else', 'except', 'finally', 'for', 'from', 'global', 'if', 'import', 'in', 'is', 'lambda', 'nonlocal', 'not', 'or', 'pass', 'raise', 'return', 'try', 'while', 'with', 'yield']\n"
          ]
        }
      ]
    },
    {
      "cell_type": "markdown",
      "source": [
        "4. Write a program that checks if a given word is a Python keyword."
      ],
      "metadata": {
        "id": "jNgbLWpHYoUu"
      }
    },
    {
      "cell_type": "code",
      "source": [
        "word = \"while\"\n",
        "if keyword.iskeyword(word):\n",
        "  print(\"Its a python keyword\")\n",
        "else:\n",
        "  print(\"no, its not\")"
      ],
      "metadata": {
        "colab": {
          "base_uri": "https://localhost:8080/"
        },
        "id": "gYmip9NNYtNb",
        "outputId": "337615d9-d4fc-4885-ade7-8a0dcc1afb16"
      },
      "execution_count": null,
      "outputs": [
        {
          "output_type": "stream",
          "name": "stdout",
          "text": [
            "Its a python keyword\n"
          ]
        }
      ]
    },
    {
      "cell_type": "markdown",
      "source": [
        "5. Create a list and tuple in Python, and demonstrate how attempting to change an element works differently\n",
        "for each"
      ],
      "metadata": {
        "id": "U64yb0CvZ-4-"
      }
    },
    {
      "cell_type": "code",
      "source": [
        "tp = (\"Jungle\", \"Lion\")\n",
        "lst = [\"Jungle\", \"Lion\"]\n",
        "tp[0] = \"Zoo\" # this will throw error('tuple' object does not support item assignment)\n",
        "print(tp)\n",
        "\n",
        "lst[0] = \"Zoo\" # this will run smoothly\n",
        "print(lst)\n"
      ],
      "metadata": {
        "colab": {
          "base_uri": "https://localhost:8080/"
        },
        "id": "vcugeJdlaC31",
        "outputId": "066cddbc-cede-4ad7-fafd-219a869ac101"
      },
      "execution_count": null,
      "outputs": [
        {
          "output_type": "stream",
          "name": "stdout",
          "text": [
            "('Jungle', 'Lion')\n",
            "['Zoo', 'Lion']\n"
          ]
        }
      ]
    },
    {
      "cell_type": "markdown",
      "source": [
        "6. Write a function to demonstrate the behavior of mutable and immutable arguments"
      ],
      "metadata": {
        "id": "TxGpqRYocDY5"
      }
    },
    {
      "cell_type": "code",
      "source": [
        "my_list = [1, 2, 3] #list is mutable so lets see what happens if we try to change its behavior\n",
        "my_list[1] = 5 # this will replace the value of second item from 2 to 5\n",
        "print(\"Orignal list: \" ,my_list, \"and now changed list: \", my_list)"
      ],
      "metadata": {
        "colab": {
          "base_uri": "https://localhost:8080/"
        },
        "id": "3NYpLsJ_cMa6",
        "outputId": "92e3fea7-d315-4fc1-f38c-4477aa7fbc46"
      },
      "execution_count": null,
      "outputs": [
        {
          "output_type": "stream",
          "name": "stdout",
          "text": [
            "Orignal list:  [1, 5, 3] and now changed list:  [1, 5, 3]\n"
          ]
        }
      ]
    },
    {
      "cell_type": "code",
      "source": [
        "mystr = \"Krishna\"\n",
        "#mystr[4] = \"a\" # this this throw error as strings are immutable\n",
        "mystr.replace(\"h\",\"a\") # a workaround but this creates a new copy of the object"
      ],
      "metadata": {
        "colab": {
          "base_uri": "https://localhost:8080/",
          "height": 35
        },
        "id": "w0bu4DaWdmSi",
        "outputId": "29f00a1e-38d2-452e-ded9-ecbe568bf50b"
      },
      "execution_count": null,
      "outputs": [
        {
          "output_type": "execute_result",
          "data": {
            "text/plain": [
              "'Krisana'"
            ],
            "application/vnd.google.colaboratory.intrinsic+json": {
              "type": "string"
            }
          },
          "metadata": {},
          "execution_count": 17
        }
      ]
    },
    {
      "cell_type": "markdown",
      "source": [
        " 7. Write a program that performs basic arithmetic operations on two user-input numbers.\n"
      ],
      "metadata": {
        "id": "yovAdw5VenWe"
      }
    },
    {
      "cell_type": "code",
      "source": [
        "usr1 = int(input(\"Please enter a number\"))\n",
        "usr2 = int(input(\"please enter second number you want to sum original number with\"))\n",
        "sum_usr1_usr2= usr1+usr2\n",
        "print(sum_usr1_usr2)"
      ],
      "metadata": {
        "colab": {
          "base_uri": "https://localhost:8080/"
        },
        "id": "Q3IBOd9det8j",
        "outputId": "5df01f87-b4af-4330-af3e-3eade629bccd"
      },
      "execution_count": null,
      "outputs": [
        {
          "output_type": "stream",
          "name": "stdout",
          "text": [
            "Please enter a number1\n",
            "please enter second number you want to sum original number with2\n",
            "3\n"
          ]
        }
      ]
    },
    {
      "cell_type": "markdown",
      "source": [
        " 8. Write a program to demonstrate the use of logical operators"
      ],
      "metadata": {
        "id": "ugVi6zzffZnw"
      }
    },
    {
      "cell_type": "code",
      "source": [
        "x = 10\n",
        "y = 5\n",
        "\n",
        "print(x > 5 and y < 10)   # True both conditions are True\n",
        "\n",
        "print(x > 15 or y < 10)   # True one condition is True"
      ],
      "metadata": {
        "colab": {
          "base_uri": "https://localhost:8080/"
        },
        "id": "1vDBURaGfguW",
        "outputId": "b0e65e83-471d-40ee-8163-3e1f32e23382"
      },
      "execution_count": null,
      "outputs": [
        {
          "output_type": "stream",
          "name": "stdout",
          "text": [
            "True\n",
            "True\n"
          ]
        }
      ]
    },
    {
      "cell_type": "markdown",
      "source": [
        " 9. Write a Python program to convert user input from string to integer, float, and boolean types"
      ],
      "metadata": {
        "id": "6I9QuxTJf8b6"
      }
    },
    {
      "cell_type": "code",
      "source": [
        "user_input = input(\"Please enter a number\") # input results a string\n",
        "To_integer = int(user_input) # to integer\n",
        "To_float = float(user_input) # to float\n",
        "To_boolean = bool(user_input) # to boolean\n",
        "print(To_integer, To_float, To_boolean) # this will produce a result which will have integer, float and boolean data types"
      ],
      "metadata": {
        "colab": {
          "base_uri": "https://localhost:8080/"
        },
        "id": "N5RDIxZVf6jZ",
        "outputId": "a5d1adad-f927-42d5-bf66-228f387046ac"
      },
      "execution_count": null,
      "outputs": [
        {
          "output_type": "stream",
          "name": "stdout",
          "text": [
            "Please enter a number45\n",
            "45 45.0 True\n"
          ]
        }
      ]
    },
    {
      "cell_type": "markdown",
      "source": [
        "10. Write code to demonstrate type casting with list elements"
      ],
      "metadata": {
        "id": "Hm7gqDyhhgLc"
      }
    },
    {
      "cell_type": "code",
      "source": [
        "str_list = [\"1\", \"2\", \"3\", \"4\"] #Original numbers stored as string\n",
        "revised_list = []\n",
        "for each in str_list:\n",
        "  revised_list.append(int(each))\n",
        "print(revised_list) #type casted to integers in the revised list\n"
      ],
      "metadata": {
        "colab": {
          "base_uri": "https://localhost:8080/"
        },
        "id": "sIwZKjkahe5M",
        "outputId": "4f79fda0-a187-47d9-c245-c56453696cb3"
      },
      "execution_count": null,
      "outputs": [
        {
          "output_type": "stream",
          "name": "stdout",
          "text": [
            "[1, 2, 3, 4]\n"
          ]
        }
      ]
    },
    {
      "cell_type": "markdown",
      "source": [
        " 11. Write a program that checks if a number is positive, negative, or zero."
      ],
      "metadata": {
        "id": "4A_dzAR3imjt"
      }
    },
    {
      "cell_type": "code",
      "source": [
        "user_input = int(input(\"Please enter any number, positive, negative or zero: \")) # checking user input\n",
        "if (user_input == 0):\n",
        "  print(\"this is zero\")\n",
        "elif (user_input > 0):\n",
        "    print(\"Its positive number\") # check point for positive numbers\n",
        "else:\n",
        "    print(\"Its a negative number\") # check point for negative numbers"
      ],
      "metadata": {
        "colab": {
          "base_uri": "https://localhost:8080/"
        },
        "id": "uZRvEiuWitSm",
        "outputId": "b0d44b82-4a7e-4dee-bb32-74183de10783"
      },
      "execution_count": null,
      "outputs": [
        {
          "output_type": "stream",
          "name": "stdout",
          "text": [
            "Please enter any number, positive, negative or zero: -1\n",
            "Its a negative number\n"
          ]
        }
      ]
    },
    {
      "cell_type": "markdown",
      "source": [
        "12.  Write a for loop to print numbers from 1 to 10"
      ],
      "metadata": {
        "id": "Qx9auqVblCLz"
      }
    },
    {
      "cell_type": "code",
      "source": [
        "for num in range(1,11,1):\n",
        "  print(num)"
      ],
      "metadata": {
        "colab": {
          "base_uri": "https://localhost:8080/"
        },
        "id": "_7SODnRvlHHX",
        "outputId": "d563e136-a5ae-49ff-8871-4d27a3f89822"
      },
      "execution_count": null,
      "outputs": [
        {
          "output_type": "stream",
          "name": "stdout",
          "text": [
            "1\n",
            "2\n",
            "3\n",
            "4\n",
            "5\n",
            "6\n",
            "7\n",
            "8\n",
            "9\n",
            "10\n"
          ]
        }
      ]
    },
    {
      "cell_type": "markdown",
      "source": [
        "13. Write a Python program to find the sum of all even numbers between 1 and 50"
      ],
      "metadata": {
        "id": "wL8D2q3hlTix"
      }
    },
    {
      "cell_type": "code",
      "source": [
        "sum_alleven = 0\n",
        "for num in range(1,51):\n",
        "  if num%2 == 0:\n",
        "    sum_alleven = sum_alleven + num\n",
        "print(sum_alleven)\n"
      ],
      "metadata": {
        "colab": {
          "base_uri": "https://localhost:8080/"
        },
        "id": "BD33WPQhlZrr",
        "outputId": "4d2c4694-ad96-4fbe-db21-90bac0343854"
      },
      "execution_count": null,
      "outputs": [
        {
          "output_type": "stream",
          "name": "stdout",
          "text": [
            "650\n"
          ]
        }
      ]
    },
    {
      "cell_type": "markdown",
      "source": [
        "14.  Write a program to reverse a string using a while loop."
      ],
      "metadata": {
        "id": "UlR_ewStmtT7"
      }
    },
    {
      "cell_type": "code",
      "source": [
        "string1 = \"Hello Pooja\"\n",
        "length = len(string1)\n",
        "count = 0\n",
        "while count != length:\n",
        "  count = count + 1\n",
        "  print(string1[-count])"
      ],
      "metadata": {
        "colab": {
          "base_uri": "https://localhost:8080/"
        },
        "id": "KUKMdOAbmvyt",
        "outputId": "312c395e-42b7-4ca9-f873-6e8e07e609ce"
      },
      "execution_count": null,
      "outputs": [
        {
          "output_type": "stream",
          "name": "stdout",
          "text": [
            "a\n",
            "j\n",
            "o\n",
            "o\n",
            "P\n",
            " \n",
            "o\n",
            "l\n",
            "l\n",
            "e\n",
            "H\n"
          ]
        }
      ]
    },
    {
      "cell_type": "markdown",
      "source": [
        "15. Write a Python program to calculate the factorial of a number provided by the user using a while loop."
      ],
      "metadata": {
        "id": "5FS0C7GjodfH"
      }
    },
    {
      "cell_type": "code",
      "source": [
        "num = int(input(\"Enter a number: \"))\n",
        "factorial = 1\n",
        "i = 1\n",
        "\n",
        "while i <= num:\n",
        "    factorial = factorial * i\n",
        "    i = i+1\n",
        "else:\n",
        "  print(factorial)"
      ],
      "metadata": {
        "colab": {
          "base_uri": "https://localhost:8080/"
        },
        "id": "b4XdSmqCoiY0",
        "outputId": "471f191e-9419-48e5-db83-e5429458b45a"
      },
      "execution_count": null,
      "outputs": [
        {
          "output_type": "stream",
          "name": "stdout",
          "text": [
            "Enter a number: 5\n",
            "120\n"
          ]
        }
      ]
    },
    {
      "cell_type": "code",
      "source": [],
      "metadata": {
        "id": "oSRHAwXJpMHE"
      },
      "execution_count": null,
      "outputs": []
    }
  ]
}